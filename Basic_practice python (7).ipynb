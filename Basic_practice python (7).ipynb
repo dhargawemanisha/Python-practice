{
 "cells": [
  {
   "cell_type": "markdown",
   "id": "12d44859",
   "metadata": {},
   "source": [
    "## String"
   ]
  },
  {
   "cell_type": "code",
   "execution_count": 1,
   "id": "0f159487",
   "metadata": {},
   "outputs": [
    {
     "name": "stdout",
     "output_type": "stream",
     "text": [
      "Enter your name:manisha\n",
      "Hello manisha !\n"
     ]
    }
   ],
   "source": [
    "# 1\n",
    "name=input(\"Enter your name:\")\n",
    "print(\"Hello {} !\".format(name))"
   ]
  },
  {
   "cell_type": "code",
   "execution_count": 2,
   "id": "2f62a284",
   "metadata": {},
   "outputs": [
    {
     "name": "stdout",
     "output_type": "stream",
     "text": [
      "count of is 2\n"
     ]
    }
   ],
   "source": [
    "# 2. from below string print count of \"Is\".\n",
    "string=\"He is Amol and she is chaitali\"\n",
    "count=string.count(\"is\")\n",
    "print(\"count of is {}\".format(count))"
   ]
  },
  {
   "cell_type": "code",
   "execution_count": 3,
   "id": "44e79504",
   "metadata": {},
   "outputs": [
    {
     "name": "stdout",
     "output_type": "stream",
     "text": [
      "['Data', 'is', 'new', 'oil']\n"
     ]
    }
   ],
   "source": [
    "#3. from below string split the words by spaces\n",
    "string=\"Data is new oil\"\n",
    "string_1=string.split()\n",
    "print(string_1)"
   ]
  },
  {
   "cell_type": "code",
   "execution_count": 4,
   "id": "87c6a5ec",
   "metadata": {},
   "outputs": [
    {
     "name": "stdout",
     "output_type": "stream",
     "text": [
      "Data=is=new=oil\n"
     ]
    }
   ],
   "source": [
    "#4. Now from below list,join all words by \"=\" and ceate a sentence\n",
    "list=[\"Data\",\"is\",\"new\",\"oil\"]\n",
    "string=\"=\".join(list)\n",
    "print(string)"
   ]
  },
  {
   "cell_type": "code",
   "execution_count": 5,
   "id": "e944f57f",
   "metadata": {},
   "outputs": [
    {
     "name": "stdout",
     "output_type": "stream",
     "text": [
      "I love programming in python\n"
     ]
    }
   ],
   "source": [
    "#5. from below string replace \"java\" with \"python\"\n",
    "sentence=\"I love programming in java\"\n",
    "string=sentence.replace(\"java\",\"python\")\n",
    "print(string)"
   ]
  },
  {
   "cell_type": "code",
   "execution_count": 6,
   "id": "0b128838",
   "metadata": {},
   "outputs": [
    {
     "name": "stdout",
     "output_type": "stream",
     "text": [
      "This is a message with spaces.\n"
     ]
    }
   ],
   "source": [
    "#6. from below string remove(strip) additional space and print it\n",
    "message=\"  This is a message with spaces.  \"\n",
    "strip_message=message.strip()\n",
    "print(strip_message)"
   ]
  },
  {
   "cell_type": "code",
   "execution_count": 7,
   "id": "2fcbc96b",
   "metadata": {},
   "outputs": [
    {
     "name": "stdout",
     "output_type": "stream",
     "text": [
      "10\n"
     ]
    }
   ],
   "source": [
    "# 7 From below string find postion(start index) of \"sample\"\n",
    "sentence = \"This is a sample sentence.\"\n",
    "string=sentence.find(\"sample\")\n",
    "print(string)"
   ]
  },
  {
   "cell_type": "code",
   "execution_count": 8,
   "id": "aa626c22",
   "metadata": {},
   "outputs": [
    {
     "name": "stdout",
     "output_type": "stream",
     "text": [
      "14\n"
     ]
    }
   ],
   "source": [
    "# 8.Given the string \"Python is fun!\", how can you calculate and print its length?\n",
    "text = \"Python is fun!\"\n",
    "length=len(text)\n",
    "print(length)\n"
   ]
  },
  {
   "cell_type": "code",
   "execution_count": 9,
   "id": "86676bba",
   "metadata": {},
   "outputs": [
    {
     "name": "stdout",
     "output_type": "stream",
     "text": [
      "elppaeniP\n"
     ]
    }
   ],
   "source": [
    "# 9. Print below string in reverse order\n",
    "string = \"Pineapple\"\n",
    "string_1=string[::-1]\n",
    "print(string_1)"
   ]
  },
  {
   "cell_type": "code",
   "execution_count": 10,
   "id": "b1849e49",
   "metadata": {},
   "outputs": [
    {
     "name": "stdout",
     "output_type": "stream",
     "text": [
      "Welcome To Python Programming.\n"
     ]
    }
   ],
   "source": [
    "# 10. Given the string \"Welcome to Python Programming.\", how can you capitalize the first letter of each word and print the modified string?\n",
    "text = \"Welcome to Python Programming.\"\n",
    "modified_string=text.title()\n",
    "print(modified_string)"
   ]
  },
  {
   "cell_type": "code",
   "execution_count": 11,
   "id": "27a0e88c",
   "metadata": {},
   "outputs": [
    {
     "name": "stdout",
     "output_type": "stream",
     "text": [
      "DATA IS NEW OIL\n"
     ]
    }
   ],
   "source": [
    "# 11. Convert all letter of string to Upper Case\n",
    "text = \"Data is new oil\"\n",
    "upper_string=text.upper()\n",
    "print(upper_string)"
   ]
  },
  {
   "cell_type": "code",
   "execution_count": 12,
   "id": "56afa5b8",
   "metadata": {},
   "outputs": [
    {
     "name": "stdout",
     "output_type": "stream",
     "text": [
      "I Am Learning Python\n"
     ]
    }
   ],
   "source": [
    "# 12. From below string just convert first lettter of string to upper case\n",
    "text = \"i am learning python\"\n",
    "string =text.title()\n",
    "print(string)"
   ]
  },
  {
   "cell_type": "code",
   "execution_count": 13,
   "id": "8ed62229",
   "metadata": {},
   "outputs": [
    {
     "name": "stdout",
     "output_type": "stream",
     "text": [
      "I am learning python\n"
     ]
    }
   ],
   "source": [
    "text = \"i am learning python\"\n",
    "string =text.capitalize()\n",
    "print(string)"
   ]
  },
  {
   "cell_type": "code",
   "execution_count": 14,
   "id": "b0e6e4a4",
   "metadata": {},
   "outputs": [
    {
     "name": "stdout",
     "output_type": "stream",
     "text": [
      "dAta IS nEw Oil\n"
     ]
    }
   ],
   "source": [
    "# 13. Convert all uppper case to lower and lower case to upper\n",
    "text = \"DaTA is NeW oIL\"\n",
    "modified_string=text.swapcase()\n",
    "print(modified_string)"
   ]
  },
  {
   "cell_type": "code",
   "execution_count": 15,
   "id": "1a745042",
   "metadata": {},
   "outputs": [
    {
     "name": "stdout",
     "output_type": "stream",
     "text": [
      "50\n"
     ]
    }
   ],
   "source": [
    "# 14. print the addition of below 2 strings\n",
    "a = 20\n",
    "b = 30\n",
    "c= a+b\n",
    "print(c)"
   ]
  },
  {
   "cell_type": "code",
   "execution_count": 16,
   "id": "47693164",
   "metadata": {},
   "outputs": [
    {
     "name": "stdout",
     "output_type": "stream",
     "text": [
      "2030\n"
     ]
    }
   ],
   "source": [
    "# 14. print the addition of below 2 strings\n",
    "a = 20\n",
    "b = 30\n",
    "result = str(a) + str(b)\n",
    "print(result)"
   ]
  },
  {
   "cell_type": "code",
   "execution_count": 17,
   "id": "8ab6a2d9",
   "metadata": {},
   "outputs": [
    {
     "name": "stdout",
     "output_type": "stream",
     "text": [
      "50\n"
     ]
    }
   ],
   "source": [
    "#15. print the additiono of below 2 strings\n",
    "a = \"20\"\n",
    "b = \"30\"\n",
    "c=int(a)+ int(b)\n",
    "print(c)"
   ]
  },
  {
   "cell_type": "code",
   "execution_count": 18,
   "id": "9aca579f",
   "metadata": {},
   "outputs": [
    {
     "name": "stdout",
     "output_type": "stream",
     "text": [
      "2030\n"
     ]
    }
   ],
   "source": [
    "a = \"20\"\n",
    "b = \"30\"\n",
    "result = str(a) + str(b)\n",
    "print(result)"
   ]
  },
  {
   "cell_type": "code",
   "execution_count": 19,
   "id": "42b3d37e",
   "metadata": {},
   "outputs": [
    {
     "name": "stdout",
     "output_type": "stream",
     "text": [
      "[1, 2, 3, 44, 5]\n"
     ]
    }
   ],
   "source": [
    "# 16. From below list replace 4 with 44\n",
    "my_list = [1, 2, 3, 4, 5]\n",
    "my_list[3]= 44\n",
    "print(my_list)"
   ]
  },
  {
   "cell_type": "code",
   "execution_count": 20,
   "id": "121c3073",
   "metadata": {},
   "outputs": [],
   "source": [
    "# 17. In below list add(insert) 200 at index 3\n",
    "my_list = [1, 2, 3, 4, 5]\n",
    "my_list.insert(3,200)"
   ]
  },
  {
   "cell_type": "code",
   "execution_count": 21,
   "id": "5acbe57e",
   "metadata": {},
   "outputs": [
    {
     "name": "stdout",
     "output_type": "stream",
     "text": [
      "[1, 2, 3, 200, 4, 5]\n"
     ]
    }
   ],
   "source": [
    "print(my_list)"
   ]
  },
  {
   "cell_type": "code",
   "execution_count": 22,
   "id": "c45f5124",
   "metadata": {},
   "outputs": [],
   "source": [
    "# 18. In below list add new number 66\n",
    "my_list = [1, 2, 3, 4, 5]\n",
    "my_list.append(66)"
   ]
  },
  {
   "cell_type": "code",
   "execution_count": 23,
   "id": "43acaa74",
   "metadata": {},
   "outputs": [
    {
     "name": "stdout",
     "output_type": "stream",
     "text": [
      "[1, 2, 3, 4, 5, 66]\n"
     ]
    }
   ],
   "source": [
    "print(my_list)"
   ]
  },
  {
   "cell_type": "code",
   "execution_count": 24,
   "id": "4ee173b4",
   "metadata": {},
   "outputs": [],
   "source": [
    "# 19 In below list insert new numbers 66,87,99\n",
    "my_list = [1, 2, 3, 4, 5]\n",
    "my_list.insert(2, 66)  \n",
    "my_list.insert(4, 87) \n",
    "my_list.insert(5, 99) "
   ]
  },
  {
   "cell_type": "code",
   "execution_count": 25,
   "id": "f51238bf",
   "metadata": {},
   "outputs": [
    {
     "name": "stdout",
     "output_type": "stream",
     "text": [
      "[1, 2, 66, 3, 87, 99, 4, 5]\n"
     ]
    }
   ],
   "source": [
    "print(my_list)"
   ]
  },
  {
   "cell_type": "code",
   "execution_count": 26,
   "id": "f4257b3d",
   "metadata": {},
   "outputs": [],
   "source": [
    "# 20. from below list remove number 3\n",
    "my_list = [1, 2, 3, 4, 5]\n",
    "my_list.remove(3)"
   ]
  },
  {
   "cell_type": "code",
   "execution_count": 27,
   "id": "42f654c3",
   "metadata": {},
   "outputs": [
    {
     "name": "stdout",
     "output_type": "stream",
     "text": [
      "[1, 2, 4, 5]\n"
     ]
    }
   ],
   "source": [
    "print(my_list)"
   ]
  },
  {
   "cell_type": "code",
   "execution_count": 28,
   "id": "25045b90",
   "metadata": {},
   "outputs": [
    {
     "data": {
      "text/plain": [
       "2"
      ]
     },
     "execution_count": 28,
     "metadata": {},
     "output_type": "execute_result"
    }
   ],
   "source": [
    "# 21. From below list print count of \"cherry\"\n",
    "my_list = [1, 2.5, \"cherry\", 3, \"banana\", 4.0, \"cherry\"]\n",
    "my_list.count(\"cherry\")\n"
   ]
  },
  {
   "cell_type": "code",
   "execution_count": 29,
   "id": "34bd83e2",
   "metadata": {},
   "outputs": [
    {
     "data": {
      "text/plain": [
       "4"
      ]
     },
     "execution_count": 29,
     "metadata": {},
     "output_type": "execute_result"
    }
   ],
   "source": [
    "# 22. From below list print index of \"banana\"\n",
    "my_list = [1, 2.5, \"apple\", 3, \"banana\", 4.0, \"cherry\"]\n",
    "my_list.index(\"banana\")\n"
   ]
  },
  {
   "cell_type": "code",
   "execution_count": 30,
   "id": "6358a803",
   "metadata": {},
   "outputs": [
    {
     "data": {
      "text/plain": [
       "['Pune', 'Delhi', 'Mumbai', 'Indore', 'Jaipur']"
      ]
     },
     "execution_count": 30,
     "metadata": {},
     "output_type": "execute_result"
    }
   ],
   "source": [
    "# 23. From below list remove last item\n",
    "my_list = [\"Pune\",\"Delhi\",\"Mumbai\",\"Indore\",\"Jaipur\",\"Dehradun\"]\n",
    "my_list[:-1]"
   ]
  },
  {
   "cell_type": "code",
   "execution_count": 31,
   "id": "b447a8af",
   "metadata": {},
   "outputs": [],
   "source": [
    "#24. Sort the below list in Alphabetical order\n",
    "my_list = [\"Grapes\",\"Apple\",\"Cherry\",\"Mango\",\"Banana\"]\n",
    "my_list.sort()"
   ]
  },
  {
   "cell_type": "code",
   "execution_count": 32,
   "id": "fd977fbd",
   "metadata": {},
   "outputs": [
    {
     "name": "stdout",
     "output_type": "stream",
     "text": [
      "['Apple', 'Banana', 'Cherry', 'Grapes', 'Mango']\n"
     ]
    }
   ],
   "source": [
    "print(my_list)"
   ]
  },
  {
   "cell_type": "code",
   "execution_count": 33,
   "id": "d77e22a6",
   "metadata": {},
   "outputs": [],
   "source": [
    "# 25. Sort below list in reverse Alphabetical order\n",
    "my_list = [\"Grapes\",\"Apple\",\"Cherry\",\"Mango\",\"Banana\"]\n",
    "my_list.sort(reverse=True)\n"
   ]
  },
  {
   "cell_type": "code",
   "execution_count": 34,
   "id": "80df2bfd",
   "metadata": {},
   "outputs": [
    {
     "name": "stdout",
     "output_type": "stream",
     "text": [
      "['Mango', 'Grapes', 'Cherry', 'Banana', 'Apple']\n"
     ]
    }
   ],
   "source": [
    "print(my_list)"
   ]
  },
  {
   "cell_type": "code",
   "execution_count": null,
   "id": "02285950",
   "metadata": {},
   "outputs": [],
   "source": [
    "# 26. Create a list Named myList that has three elements\n",
    "1.The integer 3\n",
    "2.The string \"Element number two\"\n",
    "3.Another list[\"Last\",\"Element\"]\n",
    "\n",
    "in that order"
   ]
  },
  {
   "cell_type": "code",
   "execution_count": 35,
   "id": "da981658",
   "metadata": {},
   "outputs": [],
   "source": [
    "mylist =[3,\"element number two\",[\"last\",\"element\"]]"
   ]
  },
  {
   "cell_type": "code",
   "execution_count": 36,
   "id": "cb7ff31f",
   "metadata": {},
   "outputs": [
    {
     "name": "stdout",
     "output_type": "stream",
     "text": [
      "3\n"
     ]
    }
   ],
   "source": [
    "# 27. print the third element of the following list\n",
    "l=[1,2,3,4,5,6,7,8,9]\n",
    "print(l[2])"
   ]
  },
  {
   "cell_type": "code",
   "execution_count": 37,
   "id": "6e8ab937",
   "metadata": {},
   "outputs": [
    {
     "name": "stdout",
     "output_type": "stream",
     "text": [
      "['a', 'b', 16]\n"
     ]
    }
   ],
   "source": [
    "# 28. modify th elist element of this list so that its value  is 16. print the modified list so you know the operation was performed successully.\n",
    "listToModify=[\"a\",\"b\",\"sixteen\"]\n",
    "listToModify[-1] = 16\n",
    "print(listToModify)"
   ]
  },
  {
   "cell_type": "code",
   "execution_count": 38,
   "id": "fc31b612",
   "metadata": {},
   "outputs": [
    {
     "name": "stdout",
     "output_type": "stream",
     "text": [
      "8\n"
     ]
    }
   ],
   "source": [
    "# 29. Calculated the length of the following list\n",
    "listToFindLength=[\"this\",\"is\",\"the\",\"list\",\"whose\",\"length\",\"I\",\"want\"]\n",
    "print(len(listToFindLength))"
   ]
  },
  {
   "cell_type": "code",
   "execution_count": 39,
   "id": "29a5c7a6",
   "metadata": {},
   "outputs": [
    {
     "data": {
      "text/plain": [
       "3622"
      ]
     },
     "execution_count": 39,
     "metadata": {},
     "output_type": "execute_result"
    }
   ],
   "source": [
    "#30 . Calculated the sum of the following list\n",
    "\n",
    "intList = [54, 678, 2890]\n",
    "sum(intList)"
   ]
  },
  {
   "cell_type": "code",
   "execution_count": 40,
   "id": "4915236a",
   "metadata": {},
   "outputs": [
    {
     "data": {
      "text/plain": [
       "53245"
      ]
     },
     "execution_count": 40,
     "metadata": {},
     "output_type": "execute_result"
    }
   ],
   "source": [
    "# 31. Find the maxinum value the following list\n",
    "maxlist=[677,53245,234,536,23456,345,23526,3454]\n",
    "max(maxlist)"
   ]
  },
  {
   "cell_type": "code",
   "execution_count": 41,
   "id": "6abc8385",
   "metadata": {},
   "outputs": [
    {
     "data": {
      "text/plain": [
       "134"
      ]
     },
     "execution_count": 41,
     "metadata": {},
     "output_type": "execute_result"
    }
   ],
   "source": [
    "# 32. Find the minimun value the following list\n",
    "minlist=[351,984,169,284,134,467,164]\n",
    "min(minlist)"
   ]
  },
  {
   "cell_type": "code",
   "execution_count": 42,
   "id": "b26d985e",
   "metadata": {},
   "outputs": [
    {
     "name": "stdout",
     "output_type": "stream",
     "text": [
      "[1, 2, 3, 'append mel']\n"
     ]
    }
   ],
   "source": [
    "# 33. Append the string \"append mel\" to the end of the following list. print the list to operation has been completed successfully.\n",
    "listToAppend=[1,2,3]\n",
    "listToAppend.append(\"append mel\")\n",
    "print(listToAppend)"
   ]
  },
  {
   "cell_type": "markdown",
   "id": "2f8034b9",
   "metadata": {},
   "source": [
    "# Python for loop"
   ]
  },
  {
   "cell_type": "code",
   "execution_count": 43,
   "id": "c541c52e",
   "metadata": {},
   "outputs": [
    {
     "name": "stdout",
     "output_type": "stream",
     "text": [
      "Enter the number:10\n",
      "1\n",
      "2\n",
      "3\n",
      "4\n",
      "5\n",
      "6\n",
      "7\n",
      "8\n",
      "9\n"
     ]
    }
   ],
   "source": [
    "# 34. Print the first 10 natural numbers using for loop. \n",
    "num=int(input(\"Enter the number:\"))\n",
    "for i in range(1,num):\n",
    "        print(i)\n"
   ]
  },
  {
   "cell_type": "code",
   "execution_count": 44,
   "id": "a02b43a3",
   "metadata": {},
   "outputs": [
    {
     "name": "stdout",
     "output_type": "stream",
     "text": [
      "2\n",
      "4\n",
      "6\n",
      "8\n"
     ]
    }
   ],
   "source": [
    "# 35. Python program to print all the even numbers within the given range.\n",
    "\n",
    "given_range =10\n",
    "for i in range(1,10):\n",
    "    if i%2==0:\n",
    "        print(i)\n",
    "\n"
   ]
  },
  {
   "cell_type": "code",
   "execution_count": 45,
   "id": "c422f056",
   "metadata": {},
   "outputs": [
    {
     "name": "stdout",
     "output_type": "stream",
     "text": [
      "Enter the number:14\n",
      "1\n",
      "3\n",
      "6\n",
      "10\n",
      "15\n",
      "21\n",
      "28\n",
      "36\n",
      "45\n",
      "55\n",
      "66\n",
      "78\n",
      "91\n",
      "105\n"
     ]
    }
   ],
   "source": [
    "# 36.Python program to calculate the sum of all numbers from 1 to a given number.\n",
    "num=int(input(\"Enter the number:\"))\n",
    "sum=0\n",
    "for i in range(1,14+1):\n",
    "    sum+=i\n",
    "    print(sum)"
   ]
  },
  {
   "cell_type": "code",
   "execution_count": 46,
   "id": "4a749323",
   "metadata": {},
   "outputs": [
    {
     "name": "stdout",
     "output_type": "stream",
     "text": [
      "Enter the number:12\n",
      "1\n",
      "4\n",
      "9\n",
      "16\n",
      "25\n"
     ]
    }
   ],
   "source": [
    "# 37.Python program to calculate the sum of all the odd numbers within the given range.\n",
    "number=int(input(\"Enter the number:\"))\n",
    "sum=0\n",
    "for i in range(given_range):\n",
    "    if i%2!=0:\n",
    "        sum+=i\n",
    "        print(sum)\n",
    "        \n"
   ]
  },
  {
   "cell_type": "code",
   "execution_count": 47,
   "id": "9ba782ba",
   "metadata": {},
   "outputs": [
    {
     "name": "stdout",
     "output_type": "stream",
     "text": [
      "5 x 1 = 5\n",
      "5 x 2 = 10\n",
      "5 x 3 = 15\n",
      "5 x 4 = 20\n",
      "5 x 5 = 25\n",
      "5 x 6 = 30\n",
      "5 x 7 = 35\n",
      "5 x 8 = 40\n",
      "5 x 9 = 45\n",
      "5 x 10 = 50\n"
     ]
    }
   ],
   "source": [
    "# 38.Python program to print a multiplication table of a given number\n",
    "given_number=5\n",
    "for i in range(1,11):\n",
    "    print(5,\"x\",i,\"=\",5*i)"
   ]
  },
  {
   "cell_type": "code",
   "execution_count": 48,
   "id": "1c3372b8",
   "metadata": {},
   "outputs": [
    {
     "name": "stdout",
     "output_type": "stream",
     "text": [
      "1\n",
      "2\n",
      "3\n",
      "4\n",
      "1\n",
      "2\n",
      "55\n"
     ]
    }
   ],
   "source": [
    "# 39.Python program to display numbers from a list using a for loop.\n",
    "list=[1,2,3,4,1,2,55]\n",
    "for i in list:\n",
    "    print(i)"
   ]
  },
  {
   "cell_type": "code",
   "execution_count": 49,
   "id": "78953663",
   "metadata": {},
   "outputs": [
    {
     "name": "stdout",
     "output_type": "stream",
     "text": [
      "Enter the number: 47589\n",
      "5\n"
     ]
    }
   ],
   "source": [
    "# 40.Python program to count the total number of digits in a number.\n",
    "number = int(input(\"Enter the number: \"))\n",
    "count_number = str(number)\n",
    "count = 0\n",
    "for i in count_number:\n",
    "    count +=1\n",
    "    \n",
    "print(count)\n",
    "                "
   ]
  },
  {
   "cell_type": "code",
   "execution_count": 50,
   "id": "08c7e5f0",
   "metadata": {},
   "outputs": [
    {
     "name": "stdout",
     "output_type": "stream",
     "text": [
      "Enter the string: mom\n",
      "The given string mom is palindrome\n"
     ]
    }
   ],
   "source": [
    "# 41. Python program to check if the given string is a palindrome.\n",
    "string = str(input(\"Enter the string: \"))\n",
    "reverse_string = \"\"\n",
    "for i in string:\n",
    "    reverse_string =i+reverse_string\n",
    "if string==reverse_string:\n",
    "    print(\"The given string {} is palindrome\".format(string))\n",
    "else:\n",
    "    print(\"The given string {} is not palindrome\".format(string))"
   ]
  },
  {
   "cell_type": "code",
   "execution_count": 51,
   "id": "70d37c66",
   "metadata": {},
   "outputs": [
    {
     "name": "stdout",
     "output_type": "stream",
     "text": [
      "Enter the string:manisha\n",
      "m\n",
      "am\n",
      "nam\n",
      "inam\n",
      "sinam\n",
      "hsinam\n",
      "ahsinam\n"
     ]
    }
   ],
   "source": [
    "# 42.Python program that accepts a word from the user and reverses it.\n",
    "given_string=input(\"Enter the string:\")\n",
    "reverse_string=\"\"\n",
    "for i in given_string:\n",
    "    reverse_string=i+reverse_string\n",
    "    print(reverse_string)"
   ]
  },
  {
   "cell_type": "code",
   "execution_count": 52,
   "id": "c9d7e3f7",
   "metadata": {},
   "outputs": [
    {
     "name": "stdout",
     "output_type": "stream",
     "text": [
      "The given number 153 is an Amstrong number.\n"
     ]
    }
   ],
   "source": [
    "# 43. Python program to check if a given number is an Armstrong number\n",
    "given_number=153\n",
    "given_number=str(given_number)\n",
    "string_length=len(given_number)\n",
    "sum=0\n",
    "for i in given_number:\n",
    "    sum+=int(i)**string_length\n",
    "if sum == int(given_number):\n",
    "    print(\"The given number\",given_number,\"is an Amstrong number.\")\n",
    "else:\n",
    "    print(\"The given number\",given_number,\"is Not an Amstrong number.\")    \n",
    "    \n",
    "    "
   ]
  },
  {
   "cell_type": "code",
   "execution_count": 53,
   "id": "076084a7",
   "metadata": {},
   "outputs": [
    {
     "name": "stdout",
     "output_type": "stream",
     "text": [
      "1 is an odd number.\n",
      "3 is an odd number.\n",
      "5 is an odd number.\n",
      "6 is an even number.\n",
      "99 is an odd number.\n",
      "134 is an even number.\n",
      "55 is an odd number.\n"
     ]
    }
   ],
   "source": [
    "# 44.Python program to count the number of even and odd numbers from a series of numbers.\n",
    "num_list=[1,3,5,6,99,134,55]\n",
    "for i in num_list:\n",
    "    if i%2==0:\n",
    "        print(i,\"is an even number.\")\n",
    "    else:\n",
    "        print(i,\"is an odd number.\")"
   ]
  },
  {
   "cell_type": "code",
   "execution_count": 54,
   "id": "23859f6d",
   "metadata": {},
   "outputs": [
    {
     "name": "stdout",
     "output_type": "stream",
     "text": [
      "Non-prime numbers between 10 and 30 are:\n",
      "10\n",
      "12\n",
      "14\n",
      "15\n",
      "16\n",
      "18\n",
      "20\n",
      "21\n",
      "22\n",
      "24\n",
      "25\n",
      "26\n",
      "27\n",
      "28\n"
     ]
    }
   ],
   "source": [
    "# 45.Python program to display all numbers within a range except the prime numbers.\n",
    "import math\n",
    "\n",
    "def is_not_prime(n):\n",
    "    if n <= 1:\n",
    "        return True\n",
    "    \n",
    "    for i in range(2, int(math.sqrt(n)) + 1):\n",
    "        if n % i == 0:\n",
    "            return True\n",
    "    \n",
    "    return False\n",
    "\n",
    "range_starts = 10\n",
    "range_ends = 30\n",
    "print(\"Non-prime numbers between\", range_starts, \"and\", range_ends, \"are:\")\n",
    "\n",
    "for number in filter(is_not_prime, range(range_starts, range_ends)):\n",
    "    print(number)\n",
    "\n",
    "    \n",
    "    "
   ]
  },
  {
   "cell_type": "code",
   "execution_count": 55,
   "id": "1498e7b7",
   "metadata": {},
   "outputs": [
    {
     "name": "stdout",
     "output_type": "stream",
     "text": [
      "0\n",
      "1\n",
      "1\n",
      "2\n",
      "3\n",
      "5\n",
      "8\n",
      "13\n",
      "21\n",
      "34\n"
     ]
    }
   ],
   "source": [
    "# 46. Python program to get the Fibonacci series between 0 to 50.\n",
    "num = 50\n",
    "first_value, second_value = 0, 1\n",
    "for n in range(0, num):\n",
    "    if n <= 1:\n",
    "        next_value = n\n",
    "    else:\n",
    "        next_value = first_value + second_value\n",
    "        first_value = second_value\n",
    "        second_value = next_value\n",
    "    if next_value > num:\n",
    "        break\n",
    "    print(next_value)\n",
    "    "
   ]
  },
  {
   "cell_type": "code",
   "execution_count": 67,
   "id": "e3946a89",
   "metadata": {},
   "outputs": [
    {
     "name": "stdout",
     "output_type": "stream",
     "text": [
      "Enter the number:12\n",
      "The factorial of  5  is  1\n",
      "The factorial of  5  is  2\n",
      "The factorial of  5  is  6\n",
      "The factorial of  5  is  24\n",
      "The factorial of  5  is  120\n",
      "The factorial of  5  is  720\n",
      "The factorial of  5  is  5040\n",
      "The factorial of  5  is  40320\n",
      "The factorial of  5  is  362880\n",
      "The factorial of  5  is  3628800\n",
      "The factorial of  5  is  39916800\n",
      "The factorial of  5  is  479001600\n"
     ]
    }
   ],
   "source": [
    "# 47.Python program to find the factorial of a given number.\n",
    "num=int(input(\"Enter the number:\"))\n",
    "factorial = 1\n",
    " \n",
    "for i in range(1, num+ 1):\n",
    "    factorial = factorial * i\n",
    "    print(\"The factorial of \", given_number, \" is \", factorial)\n",
    "    \n",
    "    \n",
    " "
   ]
  },
  {
   "cell_type": "code",
   "execution_count": 63,
   "id": "75ef8bf4",
   "metadata": {},
   "outputs": [
    {
     "name": "stdout",
     "output_type": "stream",
     "text": [
      "Enter the string: manisha14\n",
      " The input string manisha14 has 7 letters and 2 digits.\n"
     ]
    }
   ],
   "source": [
    "# 48. Python program that accepts a string and calculates the number of digits and letters.\n",
    "user_input = input(\"Enter the string: \")\n",
    "digits = 0\n",
    "letters =0\n",
    "for i in user_input:\n",
    "    if i.isdigit():\n",
    "        digits = digits+1\n",
    "    elif i.isalpha():\n",
    "        letters = letters+1\n",
    "print(\" The input string\",user_input, \"has\", letters, \"letters and\", digits,\"digits.\")\n"
   ]
  },
  {
   "cell_type": "code",
   "execution_count": 34,
   "id": "de69f6bc",
   "metadata": {},
   "outputs": [
    {
     "name": "stdout",
     "output_type": "stream",
     "text": [
      "name\n",
      "age\n",
      "city\n",
      "occupation\n"
     ]
    }
   ],
   "source": [
    "# 49. Given the following dictionary, print all the keys.\n",
    "my_dict = {\"name\": \"Alice\", \"age\": 25, \"city\": \"New York\", \"occupation\": \"Engineer\"}\n",
    "\n",
    "for key in my_dict.keys():\n",
    "    print(key)"
   ]
  },
  {
   "cell_type": "code",
   "execution_count": 30,
   "id": "f365609a",
   "metadata": {},
   "outputs": [
    {
     "name": "stdout",
     "output_type": "stream",
     "text": [
      "Alice\n",
      "25\n",
      "New York\n",
      "Engineer\n"
     ]
    }
   ],
   "source": [
    "# 50.Print all values of dictionary \n",
    "\n",
    "my_dict = {\"name\": \"Alice\", \"age\": 25, \"city\": \"New York\", \"occupation\": \"Engineer\"}\n",
    "\n",
    "for value in my_dict.values():\n",
    "    print(value)"
   ]
  },
  {
   "cell_type": "code",
   "execution_count": 31,
   "id": "5aa939ab",
   "metadata": {},
   "outputs": [
    {
     "name": "stdout",
     "output_type": "stream",
     "text": [
      "Alice\n",
      "25\n",
      "Engineer\n"
     ]
    }
   ],
   "source": [
    "# 51.Print all values except \"New York\"\n",
    "\n",
    "my_dict = {\"name\": \"Alice\", \"age\": 25, \"city\": \"New York\", \"occupation\": \"Engineer\"}\n",
    "\n",
    "for value in my_dict.values():\n",
    "    if value!= \"New York\":\n",
    "        print(value)\n"
   ]
  },
  {
   "cell_type": "code",
   "execution_count": 32,
   "id": "6e4cb7c0",
   "metadata": {},
   "outputs": [
    {
     "name": "stdout",
     "output_type": "stream",
     "text": [
      "{'name': 'Alice', 'city': 'New York', 'occupation': 'Engineer'}\n"
     ]
    }
   ],
   "source": [
    "#52. Delete key \"age\" from below dict\n",
    "\n",
    "my_dict = {\"name\": \"Alice\", \"age\": 25, \"city\": \"New York\", \"occupation\": \"Engineer\"}\n",
    "\n",
    "if \"age\" in my_dict:\n",
    "    del my_dict[\"age\"]\n",
    "\n",
    "print(my_dict)\n"
   ]
  },
  {
   "cell_type": "code",
   "execution_count": 33,
   "id": "37a6a7e4",
   "metadata": {},
   "outputs": [
    {
     "name": "stdout",
     "output_type": "stream",
     "text": [
      "Engineer\n"
     ]
    }
   ],
   "source": [
    "#53. Print value of \"occupation\" from below dictionary.\n",
    "\n",
    "my_dict = {\"name\": \"Alice\", \"age\": 25, \"city\": \"New York\", \"occupation\": \"Engineer\"}\n",
    "\n",
    "print(my_dict[\"occupation\"])"
   ]
  },
  {
   "cell_type": "code",
   "execution_count": 25,
   "id": "ed6503d7",
   "metadata": {},
   "outputs": [
    {
     "name": "stdout",
     "output_type": "stream",
     "text": [
      "Sum:  90\n"
     ]
    }
   ],
   "source": [
    "#54.Write a python function for addition of 2 number\n",
    "\n",
    "def add_numbers(num1, num2):\n",
    "    sum = num1 + num2\n",
    "    return sum\n",
    "\n",
    "result = add_numbers(50, 40)\n",
    "print('Sum: ', result)\n"
   ]
  },
  {
   "cell_type": "code",
   "execution_count": 6,
   "id": "3c3274cd",
   "metadata": {},
   "outputs": [
    {
     "name": "stdout",
     "output_type": "stream",
     "text": [
      "20\n"
     ]
    }
   ],
   "source": [
    "# 55. Write function to add all numbers of list and print\n",
    "\n",
    "\n",
    "def sum_numbers(numbers):\n",
    "    total = 0\n",
    "    for x in numbers:\n",
    "        total += x\n",
    "    return total\n",
    "\n",
    "numbers_list = [8, 2, 3, 0, 7]\n",
    "total = sum_numbers(numbers_list)\n",
    "print(total)"
   ]
  },
  {
   "cell_type": "code",
   "execution_count": 31,
   "id": "eca601dd",
   "metadata": {},
   "outputs": [
    {
     "name": "stdout",
     "output_type": "stream",
     "text": [
      "23 Is Odd Number\n"
     ]
    }
   ],
   "source": [
    "# 56. . Write a fucntion to check if number is even or odd and print it.\n",
    "\n",
    "\n",
    "def even_odd(num):\n",
    "    if num % 2 == 0:\n",
    "        print(\"{} Is Even Number\".format(num))\n",
    "    else:\n",
    "        print(\"{} Is Odd Number\".format(num))\n",
    "\n",
    "even_odd(23)"
   ]
  },
  {
   "cell_type": "code",
   "execution_count": 27,
   "id": "c8728ba2",
   "metadata": {},
   "outputs": [
    {
     "name": "stdout",
     "output_type": "stream",
     "text": [
      "1\n",
      "5\n",
      "8\n",
      "hello\n",
      "Returned value: 15\n"
     ]
    }
   ],
   "source": [
    "# 57. Take any no of inputs in functions and print them.\n",
    "\n",
    "def print_args(*args):\n",
    "    for arg in args:\n",
    "        print(arg)\n",
    "    return 15\n",
    "\n",
    "a = print_args(1, 5, 8, \"hello\")\n",
    "print(\"Returned value:\", a)"
   ]
  },
  {
   "cell_type": "code",
   "execution_count": 28,
   "id": "ec4186a2",
   "metadata": {},
   "outputs": [
    {
     "name": "stdout",
     "output_type": "stream",
     "text": [
      "['KETAN', 'SHYAM', 'AMOL', 'CHIRAG']\n"
     ]
    }
   ],
   "source": [
    "# 58.. Write python function which will take N number of string as inputs and will return list of Upper case string\n",
    "def upper_string(*words):\n",
    "    upper_list = []\n",
    "    for word in words:\n",
    "        upper_list.append(word.upper())\n",
    "    return upper_list\n",
    "\n",
    "upper_words = upper_string(\"Ketan\", \"Shyam\", \"AMOL\", \"Chirag\")\n",
    "print(upper_words)"
   ]
  },
  {
   "cell_type": "code",
   "execution_count": 29,
   "id": "8a467050",
   "metadata": {},
   "outputs": [
    {
     "name": "stdout",
     "output_type": "stream",
     "text": [
      "name,Manisha\n",
      "age,26\n",
      "city,Austin\n"
     ]
    }
   ],
   "source": [
    "# 59. write a python function which takes multiple keyword arguments.\n",
    "\n",
    "def print_kwargs(**kwargs):\n",
    "    for key, value in kwargs.items():\n",
    "        print(\"{},{}\".format(key,value))\n",
    "\n",
    "print_kwargs(name=\"Manisha\", age=26, city=\"Austin\")"
   ]
  },
  {
   "cell_type": "code",
   "execution_count": 30,
   "id": "c1d0437f",
   "metadata": {},
   "outputs": [
    {
     "name": "stdout",
     "output_type": "stream",
     "text": [
      "104568\n"
     ]
    }
   ],
   "source": [
    "#60. write a python function which takes keyword agruments and find maximum value among all\n",
    "\n",
    "def find_max(**kwargs):\n",
    "    return max(kwargs.values())\n",
    "\n",
    "result = find_max(a=104568, b=556, c=1155)\n",
    "print(result)"
   ]
  },
  {
   "cell_type": "code",
   "execution_count": null,
   "id": "8623d0e2",
   "metadata": {},
   "outputs": [],
   "source": []
  }
 ],
 "metadata": {
  "kernelspec": {
   "display_name": "Python 3 (ipykernel)",
   "language": "python",
   "name": "python3"
  },
  "language_info": {
   "codemirror_mode": {
    "name": "ipython",
    "version": 3
   },
   "file_extension": ".py",
   "mimetype": "text/x-python",
   "name": "python",
   "nbconvert_exporter": "python",
   "pygments_lexer": "ipython3",
   "version": "3.9.12"
  }
 },
 "nbformat": 4,
 "nbformat_minor": 5
}
